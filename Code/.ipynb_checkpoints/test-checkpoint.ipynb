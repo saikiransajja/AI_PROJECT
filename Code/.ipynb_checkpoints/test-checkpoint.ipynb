{
 "cells": [
  {
   "cell_type": "code",
   "execution_count": 2,
   "metadata": {},
   "outputs": [
    {
     "name": "stdout",
     "output_type": "stream",
     "text": [
      "Feature name || Total missing values\n",
      "Name               2\n",
      "Genre              2\n",
      "NA_Sales           0\n",
      "EU_Sales           0\n",
      "JP_Sales           0\n",
      "Other_Sales        0\n",
      "Global_Sales       0\n",
      "Critic_Score    8582\n",
      "Critic_Count    8582\n",
      "User_Score      6704\n",
      "User_Count      9129\n",
      "Rating          6769\n",
      "dtype: int64\n"
     ]
    }
   ],
   "source": [
    "import pandas as pd\n",
    "import numpy as np\n",
    "# Importing the dataset\n",
    "dataset = pd.read_csv('data.csv')\n",
    "# Dropping certain less important features\n",
    "dataset.drop(columns = ['Year_of_Release', 'Developer', 'Publisher', 'Platform'], inplace = True)\n",
    "# To view the columns with missing values\n",
    "print('Feature name || Total missing values')\n",
    "print(dataset.isna().sum())\n",
    "X = dataset.iloc[:, :].values\n",
    "X = np.delete(X, 6, 1)\n",
    "y = dataset.iloc[:, 6:7].values\n",
    "# Splitting the dataset into Train and Test sets\n",
    "from sklearn.model_selection import train_test_split\n",
    "X_train, X_test, y_train, y_test = train_test_split(X, y, test_size = 0.3, random_state = 0)\n",
    "# Saving name of the games in training and test set\n",
    "games_in_training_set = X_train[:, 0]\n",
    "games_in_test_set = X_test[:, 0]\n",
    "# Dropping the column that contains the name of the games\n",
    "X_train = X_train[:, 1:]\n",
    "X_test = X_test[:, 1:]"
   ]
  },
  {
   "cell_type": "code",
   "execution_count": 3,
   "metadata": {},
   "outputs": [
    {
     "ename": "ImportError",
     "evalue": "cannot import name 'Imputer' from 'sklearn.impute' (/Users/saikiransajja/anaconda3/lib/python3.11/site-packages/sklearn/impute/__init__.py)",
     "output_type": "error",
     "traceback": [
      "\u001b[0;31m---------------------------------------------------------------------------\u001b[0m",
      "\u001b[0;31mImportError\u001b[0m                               Traceback (most recent call last)",
      "Cell \u001b[0;32mIn[3], line 1\u001b[0m\n\u001b[0;32m----> 1\u001b[0m \u001b[38;5;28;01mfrom\u001b[39;00m \u001b[38;5;21;01msklearn\u001b[39;00m\u001b[38;5;21;01m.\u001b[39;00m\u001b[38;5;21;01mimpute\u001b[39;00m \u001b[38;5;28;01mimport\u001b[39;00m Imputer\n",
      "\u001b[0;31mImportError\u001b[0m: cannot import name 'Imputer' from 'sklearn.impute' (/Users/saikiransajja/anaconda3/lib/python3.11/site-packages/sklearn/impute/__init__.py)"
     ]
    }
   ],
   "source": [
    "from sklearn.impute import Imputer"
   ]
  },
  {
   "cell_type": "code",
   "execution_count": null,
   "metadata": {},
   "outputs": [],
   "source": []
  }
 ],
 "metadata": {
  "kernelspec": {
   "display_name": "Python 3 (ipykernel)",
   "language": "python",
   "name": "python3"
  },
  "language_info": {
   "codemirror_mode": {
    "name": "ipython",
    "version": 3
   },
   "file_extension": ".py",
   "mimetype": "text/x-python",
   "name": "python",
   "nbconvert_exporter": "python",
   "pygments_lexer": "ipython3",
   "version": "3.11.5"
  }
 },
 "nbformat": 4,
 "nbformat_minor": 2
}
